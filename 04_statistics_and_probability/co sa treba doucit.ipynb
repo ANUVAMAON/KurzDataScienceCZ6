{
 "cells": [
  {
   "attachments": {},
   "cell_type": "markdown",
   "metadata": {},
   "source": [
    "V data science obore je štatistika a pravdepodobnosť veľmi dôležitou oblasťou. Pomáhajú analyzovať dáta, odhaľovať vzťahy a získavať poznatky z dát. Tu je niekoľko kľúčových konceptov, ktoré by ti mohli pomôcť:\n",
    "\n",
    "1. Pravdepodobnosť: Pravdepodobnosť je štúdium toho, ako pravdepodobne sa vyskytnú určité udalosti. Základné pojmy zahŕňajú pravdepodobnostné rozdelenia, pravidlá pravdepodobnosti (napr. súčet pravdepodobností), nezávislé a závislé udalosti a Bayesovu větu.\n",
    "2. Popisná štatistika: Popisná štatistika sa zaoberá analýzou a popisom dát. Základné pojmy zahŕňajú mierky centrálnej tendencie (napr. priemer, medián), mierky variability (napr. rozptyl, štandardná odchýlka) a grafické metódy pre vizualizáciu dát (napr. histogramy, box-plots).\n",
    "3. Inferenčná štatistika: Inferenčná štatistika sa zaoberá odvodením záverov o populácii na základe vzorky dát. Zahŕňa koncepty ako odhadovanie parametrov, hypotézové testovanie a intervalové odhady.\n",
    "4. Regresná analýza: Regresná analýza sa používa na modelovanie vzťahov medzi premennými. Lineárna regresia je bežne používaná technika, ale existujú aj iné pokročilé metódy (napr. viacnásobná regresia, logistická regresia).\n",
    "5. Korelácia a kovariancia: Tieto koncepty sa používajú na meranie vzájomného vzťahu medzi premennými. Korelácia meria silu a smer vzťahu medzi dvoma premennými, zatiaľ čo kovariancia meria mieru závislosti medzi nimi.\n",
    "6. Pravdepodobnostné rozdelenia: Pravdepodobnostné rozdelenia popisujú rozdelenie pravdepodobností pre rôzne hodnoty premenných. Niektoré bežné rozdelenia sú normálne rozdelenie, binomické rozdelenie, Poissonovo rozdelenie a exponenciálne rozdelenie.\n",
    "\n",
    "Je dôležité mať pevné základy v týchto oblastiach, aby si mohol efektívne pracovať s dátami a vyvodiť relevantné závery v oblasti data science. Odporúč\n",
    "\n",
    "Odporúčam tiež zoznámiť sa s týmito dodatočnými konceptmi:\n",
    "\n",
    "7. Výber vzorky: Pri analýze dát je často potrebné pracovať so vzorkou z populácie. Výber správnej vzorky a pochopenie vzorkovania je dôležité pre správne závery a inferenciu na celú populáciu.\n",
    "8. Testovanie hypotéz: Testovanie hypotéz je proces porovnávania dát s určitými predpokladmi alebo hypotézami. Pomáha rozhodnúť, či existujú štatisticky významné rozdiely alebo vzťahy medzi premennými.\n",
    "9. Analýza variancie (ANOVA): ANOVA je štatistická metóda používaná na porovnávanie priemerov viacerých skupín dát a zisťovanie, či sú tieto rozdiely štatisticky významné.\n",
    "10. Metódy strojového učenia: V oblasti data science sú metódy strojového učenia neodmysliteľné. Tieto techniky využívajú algoritmy a modely na analýzu dát a predikciu budúcich hodnôt. Patrí sem napríklad rozhodovacie stromy, náhodné lesy, podporné vektory (SVM) a neurónové siete.\n",
    "11. Clustering: Clustering je technika, ktorá sa používa na rozdelenie dát do skupín podľa ich podobnosti. Pomáha identifikovať vzorce a štruktúru v dátach bez predchádzajúcej znalosti o kategóriách.\n",
    "12. Regresná analýza viacerých premenných: Táto technika sa používa na modelovanie vzťahov medzi viacerými nezávislými premennými a jednou alebo viacerými závislými premennými.\n",
    "\n",
    "Toto je len základný prehľad oblastí štatistiky a pravdepodobnosti, ktoré sú dôležité v data science. Odporúčam ďalej študovať tieto koncepty a ich aplikácie prostredníctvom kníh, online kurzov alebo príkladov z reálneho sveta. Prax a skúsenosti s analýzou dát ti pomôžu lepšie porozumieť a efektívne využívať tieto nástroje v data science."
   ]
  },
  {
   "cell_type": "code",
   "execution_count": null,
   "metadata": {},
   "outputs": [],
   "source": []
  }
 ],
 "metadata": {
  "language_info": {
   "name": "python"
  },
  "orig_nbformat": 4
 },
 "nbformat": 4,
 "nbformat_minor": 2
}
