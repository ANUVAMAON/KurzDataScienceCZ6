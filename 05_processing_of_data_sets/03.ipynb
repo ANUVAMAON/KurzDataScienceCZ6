{
 "cells": [
  {
   "cell_type": "code",
   "execution_count": 1,
   "metadata": {},
   "outputs": [],
   "source": [
    "import yahoo_fin.stock_info as si\n",
    "\n"
   ]
  },
  {
   "cell_type": "code",
   "execution_count": 5,
   "metadata": {},
   "outputs": [
    {
     "name": "stdout",
     "output_type": "stream",
     "text": [
      "                  open        high         low       close    adjclose  \\\n",
      "2023-05-11  334.980011  345.470001  331.839996  344.760010  344.760010   \n",
      "2023-05-12  344.760010  348.170013  337.359985  339.890015  339.890015   \n",
      "2023-05-15  340.619995  341.899994  335.540009  335.890015  335.890015   \n",
      "2023-05-16  334.000000  335.170013  331.910004  333.750000  333.750000   \n",
      "2023-05-17  331.760010  341.380005  329.619995  339.959991  339.959991   \n",
      "2023-05-18  347.250000  375.869995  346.369995  371.290009  371.290009   \n",
      "2023-05-19  369.859985  369.989990  363.809998  365.359985  365.359985   \n",
      "2023-05-22  365.359985  372.010010  362.500000  363.010010  363.010010   \n",
      "2023-05-23  360.239990  364.170013  354.309998  355.989990  355.989990   \n",
      "2023-05-24  356.929993  367.149994  356.630005  364.850006  364.850006   \n",
      "2023-05-25  359.609985  367.450012  357.420013  359.000000  359.000000   \n",
      "2023-05-26  361.100006  383.760010  356.000000  378.880005  378.880005   \n",
      "2023-05-30  397.480011  405.109985  385.790009  392.980011  392.980011   \n",
      "2023-05-31  391.890015  396.260010  388.910004  395.230011  395.230011   \n",
      "2023-06-01  397.410004  407.519989  393.079987  403.130005  403.130005   \n",
      "2023-06-02  402.890015  406.579987  395.899994  400.470001  400.470001   \n",
      "2023-06-05  400.470001  413.859985  400.149994  403.540009  403.540009   \n",
      "2023-06-06  405.000000  405.119995  396.929993  399.290009  399.290009   \n",
      "2023-06-07  410.429993  418.950012  399.230011  399.769989  399.769989   \n",
      "2023-06-08  399.769989  409.540009  396.339996  409.369995  409.369995   \n",
      "2023-06-09  424.500000  425.899994  414.760010  420.019989  420.019989   \n",
      "\n",
      "              volume ticker  \n",
      "2023-05-11   8033500   NFLX  \n",
      "2023-05-12   6079900   NFLX  \n",
      "2023-05-15   3653000   NFLX  \n",
      "2023-05-16   3332200   NFLX  \n",
      "2023-05-17   3958800   NFLX  \n",
      "2023-05-18  20925200   NFLX  \n",
      "2023-05-19   7850900   NFLX  \n",
      "2023-05-22   5406400   NFLX  \n",
      "2023-05-23   6866100   NFLX  \n",
      "2023-05-24   7973300   NFLX  \n",
      "2023-05-25   6263100   NFLX  \n",
      "2023-05-26   9360400   NFLX  \n",
      "2023-05-30  10865000   NFLX  \n",
      "2023-05-31   6988000   NFLX  \n",
      "2023-06-01   7160100   NFLX  \n",
      "2023-06-02   5897300   NFLX  \n",
      "2023-06-05   7247400   NFLX  \n",
      "2023-06-06   4991500   NFLX  \n",
      "2023-06-07  11932400   NFLX  \n",
      "2023-06-08   5991100   NFLX  \n",
      "2023-06-09  12363000   NFLX  \n"
     ]
    }
   ],
   "source": [
    "NFLX = si.get_data('NFLX', start_date= '05/11/2023', end_date='06/11/2023', index_as_date=True, interval='1d')\n",
    "print(NFLX)"
   ]
  },
  {
   "cell_type": "code",
   "execution_count": 9,
   "metadata": {},
   "outputs": [
    {
     "ename": "TypeError",
     "evalue": "'Series' object cannot be interpreted as an integer",
     "output_type": "error",
     "traceback": [
      "\u001b[1;31m---------------------------------------------------------------------------\u001b[0m",
      "\u001b[1;31mTypeError\u001b[0m                                 Traceback (most recent call last)",
      "Cell \u001b[1;32mIn[9], line 1\u001b[0m\n\u001b[1;32m----> 1\u001b[0m OA \u001b[39m=\u001b[39m NFLX\u001b[39m.\u001b[39;49mvalues\u001b[39m.\u001b[39;49mmean(NFLX\u001b[39m.\u001b[39;49mopen)\n\u001b[0;32m      2\u001b[0m \u001b[39mprint\u001b[39m(OA)\n",
      "File \u001b[1;32mc:\\Users\\maro-personal\\Documents\\KurzDataScience\\.venv\\Lib\\site-packages\\numpy\\core\\_methods.py:169\u001b[0m, in \u001b[0;36m_mean\u001b[1;34m(a, axis, dtype, out, keepdims, where)\u001b[0m\n\u001b[0;32m    165\u001b[0m arr \u001b[39m=\u001b[39m asanyarray(a)\n\u001b[0;32m    167\u001b[0m is_float16_result \u001b[39m=\u001b[39m \u001b[39mFalse\u001b[39;00m\n\u001b[1;32m--> 169\u001b[0m rcount \u001b[39m=\u001b[39m _count_reduce_items(arr, axis, keepdims\u001b[39m=\u001b[39;49mkeepdims, where\u001b[39m=\u001b[39;49mwhere)\n\u001b[0;32m    170\u001b[0m \u001b[39mif\u001b[39;00m rcount \u001b[39m==\u001b[39m \u001b[39m0\u001b[39m \u001b[39mif\u001b[39;00m where \u001b[39mis\u001b[39;00m \u001b[39mTrue\u001b[39;00m \u001b[39melse\u001b[39;00m umr_any(rcount \u001b[39m==\u001b[39m \u001b[39m0\u001b[39m, axis\u001b[39m=\u001b[39m\u001b[39mNone\u001b[39;00m):\n\u001b[0;32m    171\u001b[0m     warnings\u001b[39m.\u001b[39mwarn(\u001b[39m\"\u001b[39m\u001b[39mMean of empty slice.\u001b[39m\u001b[39m\"\u001b[39m, \u001b[39mRuntimeWarning\u001b[39;00m, stacklevel\u001b[39m=\u001b[39m\u001b[39m2\u001b[39m)\n",
      "File \u001b[1;32mc:\\Users\\maro-personal\\Documents\\KurzDataScience\\.venv\\Lib\\site-packages\\numpy\\core\\_methods.py:77\u001b[0m, in \u001b[0;36m_count_reduce_items\u001b[1;34m(arr, axis, keepdims, where)\u001b[0m\n\u001b[0;32m     75\u001b[0m     items \u001b[39m=\u001b[39m \u001b[39m1\u001b[39m\n\u001b[0;32m     76\u001b[0m     \u001b[39mfor\u001b[39;00m ax \u001b[39min\u001b[39;00m axis:\n\u001b[1;32m---> 77\u001b[0m         items \u001b[39m*\u001b[39m\u001b[39m=\u001b[39m arr\u001b[39m.\u001b[39mshape[mu\u001b[39m.\u001b[39;49mnormalize_axis_index(ax, arr\u001b[39m.\u001b[39;49mndim)]\n\u001b[0;32m     78\u001b[0m     items \u001b[39m=\u001b[39m nt\u001b[39m.\u001b[39mintp(items)\n\u001b[0;32m     79\u001b[0m \u001b[39melse\u001b[39;00m:\n\u001b[0;32m     80\u001b[0m     \u001b[39m# TODO: Optimize case when `where` is broadcast along a non-reduction\u001b[39;00m\n\u001b[0;32m     81\u001b[0m     \u001b[39m# axis and full sum is more excessive than needed.\u001b[39;00m\n\u001b[0;32m     82\u001b[0m \n\u001b[0;32m     83\u001b[0m     \u001b[39m# guarded to protect circular imports\u001b[39;00m\n",
      "\u001b[1;31mTypeError\u001b[0m: 'Series' object cannot be interpreted as an integer"
     ]
    }
   ],
   "source": [
    "OA = NFLX.values.mean(NFLX.open)\n",
    "print(OA)"
   ]
  }
 ],
 "metadata": {
  "kernelspec": {
   "display_name": ".venv",
   "language": "python",
   "name": "python3"
  },
  "language_info": {
   "codemirror_mode": {
    "name": "ipython",
    "version": 3
   },
   "file_extension": ".py",
   "mimetype": "text/x-python",
   "name": "python",
   "nbconvert_exporter": "python",
   "pygments_lexer": "ipython3",
   "version": "3.11.2"
  },
  "orig_nbformat": 4
 },
 "nbformat": 4,
 "nbformat_minor": 2
}
