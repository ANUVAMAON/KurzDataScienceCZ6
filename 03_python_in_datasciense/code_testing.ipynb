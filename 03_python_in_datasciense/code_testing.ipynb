{
 "cells": [
  {
   "cell_type": "code",
   "execution_count": 37,
   "metadata": {},
   "outputs": [],
   "source": [
    "def heslo():\n",
    "    heslo = input(\"Zadajte vase heslo: \")\n",
    "   \n",
    "    while not kontrola_hesla(heslo):\n",
    "        heslo = input(\"Zadajte vase heslo: \")\n",
    "\n",
    "    return heslo\n",
    "\n",
    "def kontrola_hesla(dakeheslo):\n",
    "    dlzka_hesla = len(dakeheslo)\n",
    "    velke_pismena = sum(map(str.isupper, dakeheslo))\n",
    "    pocet_cisel = sum(p_c.isdigit() for p_c in dakeheslo)\n",
    "    percento_cisel = int((pocet_cisel / len(dakeheslo)) * 100)\n",
    "\n",
    "    if dlzka_hesla < 10:\n",
    "        print(\"Heslo musi mat aspon 10 znakov!\")\n",
    "        \n",
    "    elif velke_pismena < 2:\n",
    "        print(\"Heslo musi mat aspon 2 velke pismena!\")\n",
    "\n",
    "    elif percento_cisel < 30:\n",
    "        print(f\"Heslo musi mat aspon 30% cisel\")\n",
    "\n",
    "    else:\n",
    "        return True\n",
    "    \n",
    "            \n",
    "subor = open(\"heslo.txt\", \"wt\")\n",
    "uloz_heslo = subor.write(heslo())\n",
    "subor.close()"
   ]
  }
 ],
 "metadata": {
  "kernelspec": {
   "display_name": ".venv",
   "language": "python",
   "name": "python3"
  },
  "language_info": {
   "codemirror_mode": {
    "name": "ipython",
    "version": 3
   },
   "file_extension": ".py",
   "mimetype": "text/x-python",
   "name": "python",
   "nbconvert_exporter": "python",
   "pygments_lexer": "ipython3",
   "version": "3.10.6"
  },
  "orig_nbformat": 4
 },
 "nbformat": 4,
 "nbformat_minor": 2
}
